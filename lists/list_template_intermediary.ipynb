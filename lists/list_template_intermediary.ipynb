{
  "nbformat": 4,
  "nbformat_minor": 0,
  "metadata": {
    "kernelspec": {
      "display_name": "Python 3",
      "language": "python",
      "name": "python3"
    },
    "language_info": {
      "codemirror_mode": {
        "name": "ipython",
        "version": 3
      },
      "file_extension": ".py",
      "mimetype": "text/x-python",
      "name": "python",
      "nbconvert_exporter": "python",
      "pygments_lexer": "ipython3",
      "version": "3.7.3"
    },
    "colab": {
      "name": "list_template_intermediary.ipynb",
      "provenance": [],
      "collapsed_sections": []
    }
  },
  "cells": [
    {
      "cell_type": "markdown",
      "metadata": {
        "id": "xNSBh8oELVeM",
        "colab_type": "text"
      },
      "source": [
        "# Learning Python"
      ]
    },
    {
      "cell_type": "markdown",
      "metadata": {
        "id": "eElGT1PwLVeN",
        "colab_type": "text"
      },
      "source": [
        "Remember to **restart the kernel** (Kernel$\\rightarrow$Restart) and then **execute all cells** (Cell$\\rightarrow$Run All) to verify that all solutions are correct. Fill with your code in all the places that say `SUA SOLUÇÃO` or `YOUR ANSWER HERE` and do not change the other cells in this notebook.\n",
        "\n",
        "This list was adapted from this: https://github.com/fabiommendes/desenvolvimento-de-software/blob/master/provas/prova.ipynb.\n",
        "And its use has been authorized by its repository owner."
      ]
    },
    {
      "cell_type": "markdown",
      "metadata": {
        "deletable": false,
        "editable": false,
        "nbgrader": {
          "checksum": "6a1fdfe8de855a67a7a71574004e1d17",
          "grade": false,
          "grade_id": "cell-0bd71df71daefa41",
          "locked": true,
          "schema_version": 1,
          "solution": false
        },
        "id": "YypH6opeICEV",
        "colab_type": "text"
      },
      "source": [
        "---\n",
        "## Lista aninhada\n",
        "\n",
        "Crie uma função que recebe uma lista que pode conter valores ou outras listas dentro. A função deve remover todo aninhamento e retornar uma lista plana de valores."
      ]
    },
    {
      "cell_type": "code",
      "metadata": {
        "deletable": false,
        "nbgrader": {
          "checksum": "406e1761a89ae038e72f310867076ca6",
          "grade": false,
          "grade_id": "flat",
          "locked": false,
          "schema_version": 1,
          "solution": true
        },
        "id": "o3weefTpICEX",
        "colab_type": "code",
        "colab": {}
      },
      "source": [
        "def flat(lst):\n",
        "    \"\"\"Retorna uma lista sem aninhamento\"\"\"\n",
        "    NotImplemented # YOUR ANSWER HERE"
      ],
      "execution_count": 0,
      "outputs": []
    },
    {
      "cell_type": "markdown",
      "metadata": {
        "id": "k0mFMXZDICEc",
        "colab_type": "text"
      },
      "source": [
        "Célula de testes"
      ]
    },
    {
      "cell_type": "code",
      "metadata": {
        "id": "nvfITcJpICEd",
        "colab_type": "code",
        "colab": {}
      },
      "source": [
        "flat([1, 2, [3, 4]])"
      ],
      "execution_count": 0,
      "outputs": []
    },
    {
      "cell_type": "code",
      "metadata": {
        "deletable": false,
        "editable": false,
        "nbgrader": {
          "checksum": "b446f6fbde13c80ad309c7c85540f47d",
          "grade": true,
          "grade_id": "flat-1",
          "locked": false,
          "points": 1,
          "schema_version": 1,
          "solution": false
        },
        "id": "P81MP6wFICEf",
        "colab_type": "code",
        "colab": {}
      },
      "source": [
        "\"\"\"Remove um grau de aninhamento.\"\"\"\n",
        "assert flat([1, 2, 3]) == [1, 2, 3]\n",
        "assert flat([1, 2, [3, 4]]) == [1, 2, 3, 4]\n",
        "assert flat([1, 2, [3, 4], 5]) == [1, 2, 3, 4, 5]\n",
        "print('Parabéns!')"
      ],
      "execution_count": 0,
      "outputs": []
    },
    {
      "cell_type": "code",
      "metadata": {
        "deletable": false,
        "editable": false,
        "nbgrader": {
          "checksum": "ffe4b256ceae17a9b6dcff431e821e79",
          "grade": true,
          "grade_id": "flat-2",
          "locked": true,
          "points": 1,
          "schema_version": 1,
          "solution": false
        },
        "id": "7gB0_9CCICEh",
        "colab_type": "code",
        "colab": {}
      },
      "source": [
        "\"\"\"Remove n graus de aninhamento.\"\"\"\n",
        "assert flat([1, 2, 3]) == [1, 2, 3]\n",
        "assert flat([1, 2, [3, 4]]) == [1, 2, 3, 4]\n",
        "assert flat([1, 2, [3, 4], 5]) == [1, 2, 3, 4, 5]\n",
        "assert flat([1, [2, [3, [4]], 5]]) == [1, 2, 3, 4, 5]\n",
        "print('Parabéns!')"
      ],
      "execution_count": 0,
      "outputs": []
    },
    {
      "cell_type": "markdown",
      "metadata": {
        "deletable": false,
        "editable": false,
        "nbgrader": {
          "checksum": "6eaa8fbea15b7c81a8f5526dcbb93ddc",
          "grade": false,
          "grade_id": "cell-8e30370dc01493bc",
          "locked": true,
          "schema_version": 1,
          "solution": false
        },
        "id": "I7Qxh9yZICEk",
        "colab_type": "text"
      },
      "source": [
        "---\n",
        "## Romanos vs arábicos (2,0 pts)\n",
        "\n",
        "Crie um programa que converta números romanos para números arábicos\n",
        "\n",
        "| Símbolo | Valor             |\n",
        "|---------|-------------------|\n",
        "| I       | 1 (unus)          |\n",
        "| V       | 5 (quinque)       |\n",
        "| X       | 10 (decem)        |\n",
        "| L       | 50 (quinquaginta) |\n",
        "| C       | 100 (centum)      |\n",
        "| D       | 500 (quingenti)   |\n",
        "| M       | 1,000 (mille)     |\n"
      ]
    },
    {
      "cell_type": "code",
      "metadata": {
        "deletable": false,
        "nbgrader": {
          "checksum": "2ce1f6e7db869f822835db2ec6bc0887",
          "grade": false,
          "grade_id": "roman",
          "locked": false,
          "schema_version": 1,
          "solution": true
        },
        "id": "K2IyBI_RICEl",
        "colab_type": "code",
        "colab": {}
      },
      "source": [
        "NUMEROS = {'I': 1, 'V': 5, 'X': 10, 'L': 50, 'C': 100, 'D': 500, 'M': 1000}\n",
        "\n",
        "def arabic(roman):\n",
        "    \"\"\"Converte número romano para arábico\"\"\"\n",
        "    NotImplemented # YOUR ANSWER HERE"
      ],
      "execution_count": 0,
      "outputs": []
    },
    {
      "cell_type": "markdown",
      "metadata": {
        "deletable": false,
        "editable": false,
        "hideCode": true,
        "hideOutput": true,
        "nbgrader": {
          "checksum": "c7f22b5b154e838ccadda420829a200a",
          "grade": false,
          "grade_id": "cell-edaf088fdacb34c3",
          "locked": true,
          "schema_version": 1,
          "solution": false
        },
        "id": "Wy4ElreXICEn",
        "colab_type": "text"
      },
      "source": [
        "Teste o ano atual arabic('MMXIX') == 2019"
      ]
    },
    {
      "cell_type": "code",
      "metadata": {
        "id": "TK-XZtO-ICEo",
        "colab_type": "code",
        "colab": {}
      },
      "source": [
        "arabic('MMXIX')"
      ],
      "execution_count": 0,
      "outputs": []
    },
    {
      "cell_type": "code",
      "metadata": {
        "deletable": false,
        "editable": false,
        "nbgrader": {
          "checksum": "bcf71dcdecf343bc32f75d5ed15c1561",
          "grade": true,
          "grade_id": "roman-1",
          "locked": false,
          "points": 1,
          "schema_version": 1,
          "solution": false
        },
        "id": "a91DuFWZICEs",
        "colab_type": "code",
        "colab": {}
      },
      "source": [
        "\"\"\"Verifica valores simples\"\"\"\n",
        "assert arabic('C') == 100\n",
        "assert arabic('XIII') == 13\n",
        "assert arabic('MDCLXVI') == 1666\n",
        "assert arabic('MMDCCLXXVII') == 2777\n",
        "print('Parabéns!')"
      ],
      "execution_count": 0,
      "outputs": []
    },
    {
      "cell_type": "code",
      "metadata": {
        "deletable": false,
        "editable": false,
        "nbgrader": {
          "checksum": "6a43f060d9bc908b5ce3994b143d002b",
          "grade": true,
          "grade_id": "roman-2",
          "locked": false,
          "points": 1,
          "schema_version": 1,
          "solution": false
        },
        "id": "WHb8A_E2ICEv",
        "colab_type": "code",
        "colab": {}
      },
      "source": [
        "\"\"\"Verifica casos complexos\"\"\"\n",
        "assert arabic('IV') == 4\n",
        "assert arabic('XLII') == 42\n",
        "assert arabic('XCII') == 92\n",
        "assert arabic('CDXLII') == 442\n",
        "assert arabic('CMXCII') == 992\n",
        "\n",
        "print('Parabéns!')"
      ],
      "execution_count": 0,
      "outputs": []
    },
    {
      "cell_type": "markdown",
      "metadata": {
        "deletable": false,
        "editable": false,
        "nbgrader": {
          "checksum": "47d36f56095bff712f3cb8ff553e94dd",
          "grade": false,
          "grade_id": "cell-16f576ef379a3f25",
          "locked": true,
          "schema_version": 1,
          "solution": false
        },
        "id": "diqEj6EKICEx",
        "colab_type": "text"
      },
      "source": [
        "---\n",
        "## Maior nota\n",
        "\n",
        "A função melhor_nota() recebe uma lista de pares com (nome, nota) e retorna o nome associado à maior nota."
      ]
    },
    {
      "cell_type": "code",
      "metadata": {
        "deletable": false,
        "nbgrader": {
          "checksum": "a16c03243d041ac5de1cf94a1140c485",
          "grade": false,
          "grade_id": "maior-nota",
          "locked": false,
          "schema_version": 1,
          "solution": true
        },
        "id": "_2_SqNvaICEy",
        "colab_type": "code",
        "colab": {}
      },
      "source": [
        "def maior_nota(lst):\n",
        "    \"\"\"Retorna o nome associado à maior nota\"\"\"\n",
        "    NotImplemented # YOUR ANSWER HERE"
      ],
      "execution_count": 0,
      "outputs": []
    },
    {
      "cell_type": "markdown",
      "metadata": {
        "deletable": false,
        "editable": false,
        "nbgrader": {
          "checksum": "ff91d2763fd030080c1a837922e54f05",
          "grade": false,
          "grade_id": "cell-44b8f9dca9288874",
          "locked": true,
          "schema_version": 1,
          "solution": false
        },
        "id": "s19a_3TVICE0",
        "colab_type": "text"
      },
      "source": [
        "Teste sua implementação aqui. "
      ]
    },
    {
      "cell_type": "code",
      "metadata": {
        "id": "kBAg0t1qICE1",
        "colab_type": "code",
        "colab": {}
      },
      "source": [
        "maior_nota([('Isaac', 9.5), ('Charles', 9.2), ('Olavo', 0.1), ('Albert', 9.8),])"
      ],
      "execution_count": 0,
      "outputs": []
    },
    {
      "cell_type": "code",
      "metadata": {
        "deletable": false,
        "editable": false,
        "nbgrader": {
          "checksum": "e23b6520075d5159f2d87fa5bf107fcb",
          "grade": true,
          "grade_id": "maior-nota-testes",
          "locked": true,
          "points": 1,
          "schema_version": 1,
          "solution": false
        },
        "id": "QfxxsMgFICE4",
        "colab_type": "code",
        "colab": {}
      },
      "source": [
        "\"Testa a maior nota\"\n",
        "\n",
        "assert maior_nota([('Isaac', 9.5), ('Charles', 9.2), ('Olavo', 0.1), ('Albert', 9.8),]) == 'Albert'\n",
        "assert maior_nota([('Foo', 0)]) == 'Foo'\n",
        "print('Parabéns!')"
      ],
      "execution_count": 0,
      "outputs": []
    },
    {
      "cell_type": "markdown",
      "metadata": {
        "deletable": false,
        "editable": false,
        "nbgrader": {
          "checksum": "26a34cdce511e785bd6a9c020d456e13",
          "grade": false,
          "grade_id": "cell-c47de2todo79acc02925",
          "locked": true,
          "schema_version": 1,
          "solution": false
        },
        "id": "uJGtSi_0ICE6",
        "colab_type": "text"
      },
      "source": [
        "---\n",
        "## Que tipo de X é você?\n",
        "\n",
        "Vamos criar um programa que simula um quiz de internet. \n",
        "\n",
        "Primeiramente, um pouco de matemática. Ainda que vários quizzes simplesmente retornam resultados aleatórios, é possível fornecer as respostas com um pouco mais de precisão. Suponha que existam 3 perguntas com três alternatiavs cada e 3 possíveis resultados. Podemos definir um sistema de pontuação onde cada resultado pode receber uma pontuação para cada possível resposta. "
      ]
    },
    {
      "cell_type": "code",
      "metadata": {
        "deletable": false,
        "nbgrader": {
          "checksum": "438fa92755eef45fdc431fa2ea359ad5",
          "grade": true,
          "grade_id": "perfis",
          "locked": false,
          "points": 0,
          "schema_version": 1,
          "solution": true
        },
        "id": "gMZD40WtICE8",
        "colab_type": "code",
        "colab": {}
      },
      "source": [
        "NotImplemented # YOUR ANSWER HERE"
      ],
      "execution_count": 0,
      "outputs": []
    },
    {
      "cell_type": "markdown",
      "metadata": {
        "id": "aH1k1RxGICE-",
        "colab_type": "text"
      },
      "source": [
        "O primeiro passo para resolver nosso problema é criar uma função que recebe uma lista de votos e um perfil (representado como uma lista de dicionários) e calcula a pontuação para aquele perfil."
      ]
    },
    {
      "cell_type": "code",
      "metadata": {
        "deletable": false,
        "nbgrader": {
          "checksum": "d98ff01b3b78bb854ff5b9815aa97038",
          "grade": false,
          "grade_id": "quizz-pontos",
          "locked": false,
          "schema_version": 1,
          "solution": true
        },
        "id": "a8wumT9JICE_",
        "colab_type": "code",
        "colab": {}
      },
      "source": [
        "def calcula_pontos(votos, perfil):\n",
        "    NotImplemented # YOUR ANSWER HERE"
      ],
      "execution_count": 0,
      "outputs": []
    },
    {
      "cell_type": "code",
      "metadata": {
        "id": "1uXLnIDoICFB",
        "colab_type": "code",
        "colab": {}
      },
      "source": [
        "# Verifique sua implementação\n",
        "calcula_pontos([1, 0, 1, 2, 2], [{0: 1}, {0: 1}, {2: 1}, {0: 1}, {1: 1}])"
      ],
      "execution_count": 0,
      "outputs": []
    },
    {
      "cell_type": "code",
      "metadata": {
        "deletable": false,
        "editable": false,
        "nbgrader": {
          "checksum": "80c318b145617cbcbe1aa7961ce0ed52",
          "grade": true,
          "grade_id": "quizz-pontos-teste",
          "locked": true,
          "points": 1.5,
          "schema_version": 1,
          "solution": false
        },
        "id": "NVsPcDNbICFE",
        "colab_type": "code",
        "colab": {}
      },
      "source": [
        "\"Verifica implementação de calcula_pontos\"\n",
        "assert calcula_pontos([1, 0, 1, 2, 2], [{0: 1}, {0: 1}, {2: 1}, {0: 1}, {1: 1}]) == 1\n",
        "assert calcula_pontos([0, 0, 2, 0, 1], [{0: 1}, {0: 1}, {2: 1}, {0: 1}, {1: 1}]) == 5\n",
        "assert calcula_pontos([0, 1, 2, 0, 1], [{0: 1}, {0: 1, 1: -0.5}, {2: 1}, {0: 1}, {1: 1}]) == 3.5\n",
        "print('Parabéns!')"
      ],
      "execution_count": 0,
      "outputs": []
    },
    {
      "cell_type": "markdown",
      "metadata": {
        "id": "xG8uoz9DICFI",
        "colab_type": "text"
      },
      "source": [
        "Agora vamos criar uma função que percorre todos os perfis no dicionário PERFIS e retorne qual é o perfil mais semelhante ao padrão de votos dado. DICA: use a função calcula pontos para calcular o ponto de cada perfil e retorne o nome do perfil com a maior pontuação."
      ]
    },
    {
      "cell_type": "code",
      "metadata": {
        "deletable": false,
        "nbgrader": {
          "checksum": "31afd6a4917378ff8d94cebe7ab31cb9",
          "grade": false,
          "grade_id": "quizz-perfil",
          "locked": false,
          "schema_version": 1,
          "solution": true
        },
        "id": "UxLSN8aCICFJ",
        "colab_type": "code",
        "colab": {}
      },
      "source": [
        "def obtem_perfil(votos):\n",
        "    NotImplemented # YOUR ANSWER HERE"
      ],
      "execution_count": 0,
      "outputs": []
    },
    {
      "cell_type": "code",
      "metadata": {
        "id": "JAW_K9YFICFQ",
        "colab_type": "code",
        "colab": {}
      },
      "source": [
        "# Verifique sua implementação\n",
        "obtem_perfil([1, 2, 0])"
      ],
      "execution_count": 0,
      "outputs": []
    },
    {
      "cell_type": "code",
      "metadata": {
        "deletable": false,
        "editable": false,
        "nbgrader": {
          "checksum": "4417072483a34ee32e5e18242e8b1887",
          "grade": true,
          "grade_id": "quizz-perfil-test",
          "locked": true,
          "points": 1.5,
          "schema_version": 1,
          "solution": false
        },
        "id": "DXntXynPICFT",
        "colab_type": "code",
        "colab": {}
      },
      "source": [
        "\"Verifica implementação de obtem_perfil()\"\n",
        "assert obtem_perfil([2, 1, 0]) == PERFIS[0][0]\n",
        "assert obtem_perfil([1, 0, 1]) ==  PERFIS[1][0]\n",
        "assert obtem_perfil([0, 2, 2]) ==  PERFIS[2][0]\n",
        "\n",
        "print('Parabéns!')"
      ],
      "execution_count": 0,
      "outputs": []
    },
    {
      "cell_type": "markdown",
      "metadata": {
        "id": "MErk1NnPICFV",
        "colab_type": "text"
      },
      "source": [
        "Complete a solução. Crie um programa que realiza as 3 perguntas e calcula o perfil do usuário. Você não deve alterar a conteúdo dos dicionários na variável PERFIS, mas você pode (e deve) alterar os nomes de cada perfil. Desta forma, escolha as respostas de acordo com os valores já salvos nesta variável.\n",
        "\n",
        "Você deve escolher algum tema qualquer (que tipo de personagem do Game of Thrones, que tipo de político Brasileiro, que tipo de personagem do Star Wars, etc) e desenvolver o programa a partir daí."
      ]
    },
    {
      "cell_type": "code",
      "metadata": {
        "deletable": false,
        "nbgrader": {
          "checksum": "9d9d10ef3c3f788f9753000edad957b8",
          "grade": true,
          "grade_id": "quizz-perfil-full",
          "locked": false,
          "points": 2,
          "schema_version": 1,
          "solution": true
        },
        "id": "in9Yp230ICFW",
        "colab_type": "code",
        "colab": {}
      },
      "source": [
        "# Função auxiliar para perguntar alternativas\n",
        "def pergunta(texto, alternativas):\n",
        "    print(texto)\n",
        "    print('  a)', alternativas[0])\n",
        "    print('  b)', alternativas[1])\n",
        "    print('  c)', alternativas[2])\n",
        "    escolha = input('Escolha: ').lower()\n",
        "    if escolha not in 'abc':\n",
        "        print('Opção inválida. Tente novamente.\\n')\n",
        "        return pergunta(texto, alternativas)\n",
        "    return 'abc'.index(escolha)\n",
        "\n",
        "\n",
        "# Começe seu programa modificando \n",
        "print('Olá! Vamos perguntar algumas coisas para saber que tipo de X você é')\n",
        "\n",
        "perfil = 'desconhecido'\n",
        "opt_1 = pergunta('Como você faria Y?', ['De um jeito', 'De outro jeito', 'De um terceiro jeito'])\n",
        "# CONTINUE YOUR ANSWER HERE\n",
        "NotImplemented # YOUR ANSWER HERE\n",
        "\n",
        "print('\\nParabéns! Vocé é um %s!' % perfil)"
      ],
      "execution_count": 0,
      "outputs": []
    }
  ]
}